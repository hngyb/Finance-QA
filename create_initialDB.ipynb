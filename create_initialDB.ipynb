{
 "cells": [
  {
   "cell_type": "code",
   "execution_count": 1,
   "metadata": {},
   "outputs": [],
   "source": [
    "!conda install pymysql -y"
   ]
  },
  {
   "cell_type": "code",
   "execution_count": 2,
   "metadata": {},
   "outputs": [],
   "source": [
    "import pymysql\n",
    "import pandas as pd"
   ]
  },
  {
   "cell_type": "code",
   "execution_count": 3,
   "metadata": {},
   "outputs": [],
   "source": [
    "# create database qa_api;\n",
    "conn = pymysql.connect(host='localhost', user='****', password='****', db='qa_api', charset='utf8')\n",
    "curs = conn.cursor()\n",
    "conn.commit()"
   ]
  },
  {
   "cell_type": "code",
   "execution_count": 4,
   "metadata": {},
   "outputs": [],
   "source": [
    "sql_create_company = \"\"\"create table company(\n",
    "stock_code char(6) not null, \n",
    "company_name varchar(50) not null, \n",
    "primary key (stock_code)\n",
    ");\n",
    "\"\"\"\n",
    "sql_create_report = \"\"\"create table report(\n",
    "report_id int not null, stock_code char(6) not null, title varchar(512),\n",
    "price decimal(10,2), opinion varchar(20), writer varchar(20),\n",
    "source varchar(20), url varchar(512), contents longtext, report_date date,\n",
    "primary key (report_id), \n",
    "foreign key (stock_code) references company (stock_code)\n",
    ");\n",
    "\"\"\"\n",
    "curs.execute(sql_create_company)\n",
    "curs.execute(sql_create_report)\n",
    "conn.commit()"
   ]
  },
  {
   "cell_type": "code",
   "execution_count": 5,
   "metadata": {},
   "outputs": [],
   "source": [
    "df_company = pd.read_csv('company.csv', encoding='cp949')"
   ]
  },
  {
   "cell_type": "code",
   "execution_count": 6,
   "metadata": {},
   "outputs": [
    {
     "data": {
      "text/html": [
       "<div>\n",
       "<style scoped>\n",
       "    .dataframe tbody tr th:only-of-type {\n",
       "        vertical-align: middle;\n",
       "    }\n",
       "\n",
       "    .dataframe tbody tr th {\n",
       "        vertical-align: top;\n",
       "    }\n",
       "\n",
       "    .dataframe thead th {\n",
       "        text-align: right;\n",
       "    }\n",
       "</style>\n",
       "<table border=\"1\" class=\"dataframe\">\n",
       "  <thead>\n",
       "    <tr style=\"text-align: right;\">\n",
       "      <th></th>\n",
       "      <th>회사명</th>\n",
       "      <th>종목코드</th>\n",
       "    </tr>\n",
       "  </thead>\n",
       "  <tbody>\n",
       "    <tr>\n",
       "      <th>0</th>\n",
       "      <td>DRB동일</td>\n",
       "      <td>004840</td>\n",
       "    </tr>\n",
       "    <tr>\n",
       "      <th>1</th>\n",
       "      <td>DSR</td>\n",
       "      <td>155660</td>\n",
       "    </tr>\n",
       "    <tr>\n",
       "      <th>2</th>\n",
       "      <td>GS글로벌</td>\n",
       "      <td>001250</td>\n",
       "    </tr>\n",
       "    <tr>\n",
       "      <th>3</th>\n",
       "      <td>HDC현대산업개발</td>\n",
       "      <td>294870</td>\n",
       "    </tr>\n",
       "    <tr>\n",
       "      <th>4</th>\n",
       "      <td>KEC</td>\n",
       "      <td>092220</td>\n",
       "    </tr>\n",
       "    <tr>\n",
       "      <th>...</th>\n",
       "      <td>...</td>\n",
       "      <td>...</td>\n",
       "    </tr>\n",
       "    <tr>\n",
       "      <th>2338</th>\n",
       "      <td>티케이씨</td>\n",
       "      <td>191600</td>\n",
       "    </tr>\n",
       "    <tr>\n",
       "      <th>2339</th>\n",
       "      <td>청광건설</td>\n",
       "      <td>140290</td>\n",
       "    </tr>\n",
       "    <tr>\n",
       "      <th>2340</th>\n",
       "      <td>유투바이오</td>\n",
       "      <td>221800</td>\n",
       "    </tr>\n",
       "    <tr>\n",
       "      <th>2341</th>\n",
       "      <td>뿌리깊은나무들</td>\n",
       "      <td>266170</td>\n",
       "    </tr>\n",
       "    <tr>\n",
       "      <th>2342</th>\n",
       "      <td>나라소프트</td>\n",
       "      <td>288490</td>\n",
       "    </tr>\n",
       "  </tbody>\n",
       "</table>\n",
       "<p>2343 rows × 2 columns</p>\n",
       "</div>"
      ],
      "text/plain": [
       "            회사명    종목코드\n",
       "0         DRB동일  004840\n",
       "1           DSR  155660\n",
       "2         GS글로벌  001250\n",
       "3     HDC현대산업개발  294870\n",
       "4           KEC  092220\n",
       "...         ...     ...\n",
       "2338       티케이씨  191600\n",
       "2339       청광건설  140290\n",
       "2340      유투바이오  221800\n",
       "2341    뿌리깊은나무들  266170\n",
       "2342      나라소프트  288490\n",
       "\n",
       "[2343 rows x 2 columns]"
      ]
     },
     "execution_count": 6,
     "metadata": {},
     "output_type": "execute_result"
    }
   ],
   "source": [
    "df_company['종목코드'] = df_company['종목코드'].astype(str)\n",
    "df_company['종목코드'] = df_company['종목코드'].apply(lambda x: x.zfill(6))\n",
    "df_company"
   ]
  },
  {
   "cell_type": "code",
   "execution_count": 11,
   "metadata": {},
   "outputs": [],
   "source": [
    "df_report = pd.read_csv('report.csv', encoding='utf-8')"
   ]
  },
  {
   "cell_type": "code",
   "execution_count": 12,
   "metadata": {},
   "outputs": [],
   "source": [
    "df_report['기업코드'] = df_report['기업코드'].astype(str)\n",
    "df_report['기업코드'] = df_report['기업코드'].apply(lambda x: x.zfill(6))\n",
    "\n",
    "df_report['적정가'] = df_report['적정가'].apply(lambda x: x.replace(\",\",\"\"))\n",
    "df_report = df_report.where((pd.notnull(df_report)), None)"
   ]
  },
  {
   "cell_type": "code",
   "execution_count": 13,
   "metadata": {},
   "outputs": [],
   "source": [
    "sql = \"insert into company (stock_code, company_name) values (%s, %s)\"\n",
    "\n",
    "for stock_code, company_name in zip(df_company['종목코드'], df_company['회사명']):\n",
    "    curs.execute(sql, (stock_code, company_name))\n",
    "\n",
    "conn.commit()"
   ]
  },
  {
   "cell_type": "code",
   "execution_count": 15,
   "metadata": {},
   "outputs": [
    {
     "name": "stdout",
     "output_type": "stream",
     "text": [
      "5159\n",
      "5166\n",
      "5167\n",
      "5194\n",
      "5195\n",
      "5196\n",
      "5197\n",
      "5198\n",
      "5199\n",
      "5200\n",
      "5201\n",
      "5202\n",
      "5203\n",
      "5204\n"
     ]
    }
   ],
   "source": [
    "sql = \"\"\"insert into report\n",
    "(report_id, stock_code, title, price, opinion, writer, source, url, contents, report_date)\n",
    "values (%s, %s, %s, %s, %s, %s, %s, %s, %s, %s)\"\"\"\n",
    "\n",
    "for i in df_report.index:\n",
    "    try:\n",
    "        report_date = df_report.loc[i,'날짜']\n",
    "        stock_code = df_report.loc[i,'기업코드']\n",
    "        title = df_report.loc[i,'제목']\n",
    "        price = df_report.loc[i,'적정가']\n",
    "        opinion = df_report.loc[i,'투자의견']\n",
    "        writer = df_report.loc[i,'작성자']\n",
    "        source = df_report.loc[i,'출처']\n",
    "        url = df_report.loc[i,'PDF_URL']\n",
    "        report_id = df_report.loc[i,'파일명']\n",
    "        contents = df_report.loc[i,'html']\n",
    "        curs.execute(sql, (report_id, stock_code, title, price, opinion, writer, source, url, contents, report_date))\n",
    "\n",
    "    except:\n",
    "        print(i)\n",
    "        continue\n",
    "\n",
    "conn.commit()\n",
    "conn.close()"
   ]
  },
  {
   "cell_type": "code",
   "execution_count": null,
   "metadata": {},
   "outputs": [],
   "source": []
  }
 ],
 "metadata": {
  "kernelspec": {
   "display_name": "Python [conda env:root] *",
   "language": "python",
   "name": "conda-root-py"
  },
  "language_info": {
   "codemirror_mode": {
    "name": "ipython",
    "version": 3
   },
   "file_extension": ".py",
   "mimetype": "text/x-python",
   "name": "python",
   "nbconvert_exporter": "python",
   "pygments_lexer": "ipython3",
   "version": "3.8.5"
  },
  "toc": {
   "base_numbering": 1,
   "nav_menu": {},
   "number_sections": true,
   "sideBar": true,
   "skip_h1_title": false,
   "title_cell": "Table of Contents",
   "title_sidebar": "Contents",
   "toc_cell": false,
   "toc_position": {},
   "toc_section_display": true,
   "toc_window_display": false
  }
 },
 "nbformat": 4,
 "nbformat_minor": 4
}
